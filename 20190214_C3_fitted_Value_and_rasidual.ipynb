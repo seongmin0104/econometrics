{
 "cells": [
  {
   "cell_type": "code",
   "execution_count": 14,
   "metadata": {},
   "outputs": [
    {
     "name": "stdout",
     "output_type": "stream",
     "text": [
      "best fit line:\n",
      "y = 4.44 + -0.68x\n"
     ]
    }
   ],
   "source": [
    "from bokeh.plotting import figure\n",
    "from bokeh.io import show, output_notebook\n",
    "import pandas as pd\n",
    "import numpy as np\n",
    "from bokeh.layouts import column, widgetbox, row, gridplot\n",
    "\n",
    "data1 = pd.read_csv(\"http://econ.korea.ac.kr/~chirokhan/book/data/serv.csv\")\n",
    "\n",
    "#find best fit line by using Least Squares\n",
    "def best_fit(X, Y):\n",
    "\n",
    "    x_mean = sum(X)/len(X)\n",
    "    y_mean = sum(Y)/len(Y)\n",
    "    n = len(X) # or len(Y)\n",
    "    \n",
    "    numer = sum([xi*yi for xi,yi in zip(X, Y)]) - n * x_mean * y_mean\n",
    "    denum = sum([xi**2 for xi in X]) - n * x_mean**2\n",
    "\n",
    "    \n",
    "    b = numer / denum\n",
    "    a = y_mean - b * x_mean\n",
    "    # y = a + b * x\n",
    "    print('best fit line:\\ny = {:.2f} + {:.2f}x'.format(a, b))\n",
    "    return a, b\n",
    "\n",
    "x = data1['servpc'].tolist()\n",
    "y = data1['finind'].tolist()\n",
    "\n",
    "x2 = np.log(x)\n",
    "y2 = np.log(y)\n",
    "\n",
    "\n",
    "b0, b1 = best_fit(x2, y2)\n",
    "\n",
    "yhat = [b0 + b1 * xi for xi in x2]\n",
    "uhat = [yi - yii for yi, yii in zip(y2 , yhat)]\n",
    "\n",
    "plot = figure()\n",
    "plot.circle(x2,y2, fill_color = 'white')\n",
    "plot.circle(x2,yfit2,color = 'red')\n",
    "\n",
    "# make best fit line in scatter graph\n",
    "plot.line(x2, yfit2)\n",
    "\n",
    "#show(plot)\n"
   ]
  },
  {
   "cell_type": "code",
   "execution_count": 13,
   "metadata": {},
   "outputs": [
    {
     "name": "stdout",
     "output_type": "stream",
     "text": [
      "-7.238654120556021e-14\n"
     ]
    }
   ],
   "source": [
    "#잔차(residual)들의 합이 0임을 증명하라\n",
    "uhat = [yi - yii for yi, yii in zip(y2 , yhat)]\n",
    "print(sum(uhat))"
   ]
  },
  {
   "cell_type": "code",
   "execution_count": null,
   "metadata": {},
   "outputs": [],
   "source": []
  },
  {
   "cell_type": "code",
   "execution_count": null,
   "metadata": {},
   "outputs": [],
   "source": []
  }
 ],
 "metadata": {
  "kernelspec": {
   "display_name": "Python 3",
   "language": "python",
   "name": "python3"
  },
  "language_info": {
   "codemirror_mode": {
    "name": "ipython",
    "version": 3
   },
   "file_extension": ".py",
   "mimetype": "text/x-python",
   "name": "python",
   "nbconvert_exporter": "python",
   "pygments_lexer": "ipython3",
   "version": "3.6.4"
  }
 },
 "nbformat": 4,
 "nbformat_minor": 2
}

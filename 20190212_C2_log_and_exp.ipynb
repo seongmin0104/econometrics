{
 "cells": [
  {
   "cell_type": "code",
   "execution_count": 17,
   "metadata": {},
   "outputs": [
    {
     "data": {
      "image/png": "[encoded data removed]",
      "text/plain": [
       "<matplotlib.figure.Figure at 0x1b17bbe7748>"
      ]
     },
     "metadata": {},
     "output_type": "display_data"
    }
   ],
   "source": [
    "import matplotlib.pyplot as plt\n",
    "import numpy as np\n",
    "x = np.arange(-2, 2)\n",
    "y = x**2 -1\n",
    "plt.plot(x, y)\n",
    "plt.show()"
   ]
  },
  {
   "cell_type": "code",
   "execution_count": 31,
   "metadata": {},
   "outputs": [
    {
     "name": "stdout",
     "output_type": "stream",
     "text": [
      "18\n"
     ]
    }
   ],
   "source": [
    "def make1(x):\n",
    "    y = x**2 + 2*x +3\n",
    "    return y\n",
    "print (make1(3))"
   ]
  },
  {
   "cell_type": "code",
   "execution_count": 32,
   "metadata": {},
   "outputs": [
    {
     "name": "stdout",
     "output_type": "stream",
     "text": [
      "18\n"
     ]
    }
   ],
   "source": [
    "x = 3\n",
    "print (x**2 + 2*x +3)"
   ]
  },
  {
   "cell_type": "code",
   "execution_count": 103,
   "metadata": {},
   "outputs": [
    {
     "name": "stdout",
     "output_type": "stream",
     "text": [
      "2.7169237965572255\n"
     ]
    }
   ],
   "source": [
    "import matplotlib.pyplot as plt\n",
    "import numpy as np\n",
    "seq = [i for i in range(1,10**4)]\n",
    "x2 = []\n",
    "for x in seq:\n",
    "    y = x/10\n",
    "    x2.append(y)\n",
    "\n",
    "\n",
    "y = (1+1/x)**x\n",
    "y_list = []\n",
    "\n",
    "for x in x2 :\n",
    "    y = (1+1/x)**x\n",
    "    y_list.append(y)\n",
    "\n",
    "from bokeh.plotting import figure\n",
    "from bokeh.io import show\n",
    "plot = figure()\n",
    "plot.circle(seq,y_list)\n",
    "\n",
    "print(y_list[-1])\n",
    "show(plot)"
   ]
  },
  {
   "cell_type": "code",
   "execution_count": 75,
   "metadata": {},
   "outputs": [
    {
     "name": "stdout",
     "output_type": "stream",
     "text": [
      "[10, 100, 1000, 10000, 100000, 1000000, 10000000, 100000000, 1000000000, 10000000000]\n"
     ]
    }
   ],
   "source": [
    "seq = [i for i in range(1,11)]\n",
    "x_list = []\n",
    "\n",
    "for x in seq:\n",
    "    y = 10**x\n",
    "    x_list.append(y)\n",
    "print(x_list)"
   ]
  },
  {
   "cell_type": "code",
   "execution_count": 153,
   "metadata": {},
   "outputs": [
    {
     "name": "stdout",
     "output_type": "stream",
     "text": [
      "1.0\n",
      "2.718281828459045\n",
      "3.141592653589793\n",
      "-----------------\n",
      "0.0\n",
      "0.6931471805599453\n",
      "1.0986122886681098\n",
      "1.0\n",
      "3.14\n"
     ]
    }
   ],
   "source": [
    "import math\n",
    "print(math.log(math.e))\n",
    "print(math.exp(1))\n",
    "print(math.exp(math.log(math.pi)))\n",
    "print('-----------------')\n",
    "print(np.log(1))\n",
    "print(np.log(2))\n",
    "print(np.log(3))\n",
    "print(np.log(np.exp(1)))\n",
    "print(np.log(np.exp(3.14)))\n"
   ]
  },
  {
   "cell_type": "code",
   "execution_count": 159,
   "metadata": {},
   "outputs": [
    {
     "data": {
      "text/plain": [
       "[<matplotlib.lines.Line2D at 0x1b10040f0f0>]"
      ]
     },
     "execution_count": 159,
     "metadata": {},
     "output_type": "execute_result"
    },
    {
     "data": {
      "image/png": "[encoded data removed]",
      "text/plain": [
       "<matplotlib.figure.Figure at 0x1b100380cf8>"
      ]
     },
     "metadata": {},
     "output_type": "display_data"
    }
   ],
   "source": [
    "import matplotlib.pyplot as plt\n",
    "import numpy as np\n",
    "x = np.arange(3, 100)\n",
    "y= []\n",
    "\n",
    "\n",
    "for i in x:\n",
    "    l = math.log(i)\n",
    "    y.append(l)\n",
    "\n",
    "z= []\n",
    "for i in x:\n",
    "    l = math.exp(i)\n",
    "    z.append(l)\n",
    "\n",
    "plt.plot(y,x)"
   ]
  },
  {
   "cell_type": "code",
   "execution_count": 164,
   "metadata": {},
   "outputs": [
    {
     "name": "stdout",
     "output_type": "stream",
     "text": [
      "-0.09516258196404048\n",
      "-0.18126924692201818\n",
      "-0.2591817793182821\n",
      "-0.5034146962085905\n"
     ]
    }
   ],
   "source": [
    "print(np.exp(-0.1)-1)\n",
    "print(np.exp(-0.2)-1)\n",
    "print(np.exp(-0.3)-1)\n",
    "print(np.exp(-0.7)-1)\n"
   ]
  },
  {
   "cell_type": "code",
   "execution_count": 184,
   "metadata": {},
   "outputs": [
    {
     "name": "stdout",
     "output_type": "stream",
     "text": [
      "       ccode   cname       gdppcppp       co2pc\n",
      "count    183     183     183.000000  183.000000\n",
      "unique   183     183            NaN         NaN\n",
      "top      ECU  Guyana            NaN         NaN\n",
      "freq       1       1            NaN         NaN\n",
      "mean     NaN     NaN   13962.292307    4.699699\n",
      "std      NaN     NaN   16975.645972    6.846961\n",
      "min      NaN     NaN     476.737205    0.019411\n",
      "25%      NaN     NaN    2519.946185    0.617315\n",
      "50%      NaN     NaN    7771.348676    2.177470\n",
      "75%      NaN     NaN   18034.822637    6.896113\n",
      "max      NaN     NaN  102253.049884   61.989758\n"
     ]
    }
   ],
   "source": [
    "import pandas as pd\n",
    "\n",
    "data = pd.read_csv('C:/Users/Always9/Desktop/econometrics/data/co2gdp2005.csv')\n",
    "\n",
    "print(data.describe(include = 'all'))\n",
    "\n"
   ]
  },
  {
   "cell_type": "code",
   "execution_count": 1,
   "metadata": {},
   "outputs": [
    {
     "ename": "NameError",
     "evalue": "name 'data' is not defined",
     "output_type": "error",
     "traceback": [
      "\u001b[1;31m---------------------------------------------------------------------------\u001b[0m",
      "\u001b[1;31mNameError\u001b[0m                                 Traceback (most recent call last)",
      "\u001b[1;32m<ipython-input-1-0f3773ae418d>\u001b[0m in \u001b[0;36m<module>\u001b[1;34m()\u001b[0m\n\u001b[1;32m----> 1\u001b[1;33m \u001b[0mprint\u001b[0m\u001b[1;33m(\u001b[0m\u001b[0mdata\u001b[0m\u001b[1;33m.\u001b[0m\u001b[0mhead\u001b[0m\u001b[1;33m(\u001b[0m\u001b[1;33m)\u001b[0m\u001b[1;33m)\u001b[0m\u001b[1;33m\u001b[0m\u001b[0m\n\u001b[0m\u001b[0;32m      2\u001b[0m \u001b[0mprint\u001b[0m\u001b[1;33m(\u001b[0m\u001b[0mdata\u001b[0m\u001b[1;33m.\u001b[0m\u001b[0mtail\u001b[0m\u001b[1;33m(\u001b[0m\u001b[1;33m)\u001b[0m\u001b[1;33m)\u001b[0m\u001b[1;33m\u001b[0m\u001b[0m\n",
      "\u001b[1;31mNameError\u001b[0m: name 'data' is not defined"
     ]
    }
   ],
   "source": [
    "print(data.head())\n",
    "print(data.tail())\n"
   ]
  },
  {
   "cell_type": "code",
   "execution_count": 193,
   "metadata": {},
   "outputs": [],
   "source": []
  },
  {
   "cell_type": "code",
   "execution_count": null,
   "metadata": {},
   "outputs": [],
   "source": []
  },
  {
   "cell_type": "code",
   "execution_count": null,
   "metadata": {},
   "outputs": [],
   "source": []
  },
  {
   "cell_type": "code",
   "execution_count": null,
   "metadata": {},
   "outputs": [],
   "source": []
  },
  {
   "cell_type": "code",
   "execution_count": null,
   "metadata": {},
   "outputs": [],
   "source": []
  }
 ],
 "metadata": {
  "kernelspec": {
   "display_name": "Python 3",
   "language": "python",
   "name": "python3"
  },
  "language_info": {
   "codemirror_mode": {
    "name": "ipython",
    "version": 3
   },
   "file_extension": ".py",
   "mimetype": "text/x-python",
   "name": "python",
   "nbconvert_exporter": "python",
   "pygments_lexer": "ipython3",
   "version": "3.6.4"
  }
 },
 "nbformat": 4,
 "nbformat_minor": 2
}

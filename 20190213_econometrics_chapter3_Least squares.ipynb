{
 "cells": [
  {
   "cell_type": "code",
   "execution_count": 22,
   "metadata": {},
   "outputs": [
    {
     "name": "stdout",
     "output_type": "stream",
     "text": [
      "best fit line:\n",
      "y = 29.03 + -0.91x\n",
      "29.02549129873755\n",
      "-0.9139758587592769\n"
     ]
    }
   ],
   "source": [
    "from bokeh.plotting import figure, ColumnDataSource, gmap\n",
    "from bokeh.io import show, output_notebook\n",
    "import pandas as pd\n",
    "import numpy as np\n",
    "from bokeh.models.widgets import Panel, Tabs, DataTable, DateFormatter, TableColumn\n",
    "from bokeh.models import HoverTool, LabelSet, Label, GMapOptions\n",
    "from bokeh.layouts import column, widgetbox, row, gridplot\n",
    "\n",
    "data1 = pd.read_csv('C:/Users/Always9/Desktop/econometrics/data/serv.csv')\n",
    "\n",
    "x = data1['servpc'].tolist()\n",
    "y = data1['finind'].tolist()\n",
    "\n",
    "#find best fit line by using Least Squares\n",
    "def best_fit(X, Y):\n",
    "\n",
    "    x_mean = sum(X)/len(X)\n",
    "    y_mean = sum(Y)/len(Y)\n",
    "    n = len(X) # or len(Y)\n",
    "    \n",
    "    numer = sum([xi*yi for xi,yi in zip(X, Y)]) - n * x_mean * y_mean\n",
    "    denum = sum([xi**2 for xi in X]) - n * x_mean**2\n",
    "\n",
    "    b = numer / denum\n",
    "    a = y_mean - b * x_mean\n",
    "    # y = a + b * x\n",
    "    print('best fit line:\\ny = {:.2f} + {:.2f}x'.format(a, b))\n",
    "    return a, b\n",
    "\n",
    "# solution\n",
    "a, b = best_fit(x, y)\n",
    "#best fit line:\n",
    "#y = 29.03 + -0.91x\n",
    "\n",
    "# plot points and fit line\n",
    "yfit = [a + b * xi for xi in x]\n",
    "\n",
    "plot = figure()\n",
    "plot.circle(x,y)\n",
    "\n",
    "# make best fit line in scatter graph\n",
    "plot.line(x, yfit)\n",
    "\n",
    "#show(plot)"
   ]
  },
  {
   "cell_type": "code",
   "execution_count": 23,
   "metadata": {},
   "outputs": [
    {
     "name": "stdout",
     "output_type": "stream",
     "text": [
      "86\n"
     ]
    }
   ],
   "source": [
    "\n",
    "data1 = pd.read_csv('C:/Users/Always9/Desktop/econometrics/data/serv.csv')\n",
    "\n",
    "x = data1['servpc'].tolist()\n",
    "y = data1['finind'].tolist()\n",
    "\n",
    "print(len(x))\n"
   ]
  },
  {
   "cell_type": "code",
   "execution_count": null,
   "metadata": {},
   "outputs": [],
   "source": []
  },
  {
   "cell_type": "code",
   "execution_count": null,
   "metadata": {},
   "outputs": [],
   "source": []
  },
  {
   "cell_type": "code",
   "execution_count": null,
   "metadata": {},
   "outputs": [],
   "source": []
  }
 ],
 "metadata": {
  "kernelspec": {
   "display_name": "Python 3",
   "language": "python",
   "name": "python3"
  },
  "language_info": {
   "codemirror_mode": {
    "name": "ipython",
    "version": 3
   },
   "file_extension": ".py",
   "mimetype": "text/x-python",
   "name": "python",
   "nbconvert_exporter": "python",
   "pygments_lexer": "ipython3",
   "version": "3.6.4"
  }
 },
 "nbformat": 4,
 "nbformat_minor": 2
}

{
 "cells": [
  {
   "cell_type": "code",
   "execution_count": 38,
   "metadata": {},
   "outputs": [
    {
     "name": "stdout",
     "output_type": "stream",
     "text": [
      "best fit line:\n",
      "y = 29.03 + -0.91x\n"
     ]
    }
   ],
   "source": [
    "from bokeh.plotting import figure, ColumnDataSource, gmap\n",
    "from bokeh.io import show, output_notebook\n",
    "import pandas as pd\n",
    "import numpy as np\n",
    "from bokeh.models.widgets import Panel, Tabs, DataTable, DateFormatter, TableColumn\n",
    "from bokeh.models import HoverTool, LabelSet, Label, GMapOptions\n",
    "from bokeh.layouts import column, widgetbox, row, gridplot\n",
    "\n",
    "data1 = pd.read_csv(\"http://econ.korea.ac.kr/~chirokhan/book/data/serv.csv\")\n",
    "\n",
    "x = data1['servpc'].tolist()\n",
    "y = data1['finind'].tolist()\n",
    "\n",
    "#find best fit line by using Least Squares\n",
    "def best_fit(X, Y):\n",
    "\n",
    "    x_mean = sum(X)/len(X)\n",
    "    y_mean = sum(Y)/len(Y)\n",
    "    n = len(X) # or len(Y)\n",
    "    \n",
    "    numer = sum([xi*yi for xi,yi in zip(X, Y)]) - n * x_mean * y_mean\n",
    "    denum = sum([xi**2 for xi in X]) - n * x_mean**2\n",
    "\n",
    "    \n",
    "    b = numer / denum\n",
    "    a = y_mean - b * x_mean\n",
    "    # y = a + b * x\n",
    "    print('best fit line:\\ny = {:.2f} + {:.2f}x'.format(a, b))\n",
    "    return a, b\n",
    "\n",
    "# solution\n",
    "b0, b1 = best_fit(x, y)\n",
    "#best fit line:\n",
    "#y = 29.03 + -0.91x\n",
    "\n",
    "# plot points and fit line\n",
    "yhat = [b0 + b1 * xi for xi in x]\n",
    "\n",
    "plot = figure()\n",
    "plot.circle(x,y)\n",
    "\n",
    "# make best fit line in scatter graph\n",
    "plot.line(x, yhat)\n",
    "\n",
    "show(plot)"
   ]
  },
  {
   "cell_type": "code",
   "execution_count": 41,
   "metadata": {},
   "outputs": [
    {
     "name": "stderr",
     "output_type": "stream",
     "text": [
      "WARNING:bokeh.core.validation.check:W-1004 (BOTH_CHILD_AND_ROOT): Models should not be a document root if they are in a layout box: Figure(id='9182d7a4-0847-4fc7-85c4-ea1dccaf7862', ...)\n",
      "WARNING:bokeh.core.validation.check:W-1004 (BOTH_CHILD_AND_ROOT): Models should not be a document root if they are in a layout box: Figure(id='9182d7a4-0847-4fc7-85c4-ea1dccaf7862', ...)\n"
     ]
    },
    {
     "name": "stdout",
     "output_type": "stream",
     "text": [
      "best fit line:\n",
      "y = 4.44 + -0.68x\n"
     ]
    }
   ],
   "source": [
    "data1 = pd.read_csv(\"http://econ.korea.ac.kr/~chirokhan/book/data/serv.csv\")\n",
    "\n",
    "x = data1['servpc'].tolist()\n",
    "y = data1['finind'].tolist()\n",
    "\n",
    "x2 = np.log(x)\n",
    "y2 = np.log(y)\n",
    "\n",
    "b2, b3 = best_fit(x2, y2)\n",
    "\n",
    "yhat2 = [b2 + b3 * xi for xi in x2]\n",
    "\n",
    "plot2 = figure()\n",
    "plot2.circle(x2,y2)\n",
    "\n",
    "# make best fit line in scatter graph\n",
    "plot2.line(x2, yhat2)\n",
    "\n",
    "show(row(plot, plot2))"
   ]
  },
  {
   "cell_type": "code",
   "execution_count": null,
   "metadata": {},
   "outputs": [],
   "source": []
  },
  {
   "cell_type": "code",
   "execution_count": null,
   "metadata": {},
   "outputs": [],
   "source": []
  },
  {
   "cell_type": "code",
   "execution_count": null,
   "metadata": {},
   "outputs": [],
   "source": []
  }
 ],
 "metadata": {
  "kernelspec": {
   "display_name": "Python 3",
   "language": "python",
   "name": "python3"
  },
  "language_info": {
   "codemirror_mode": {
    "name": "ipython",
    "version": 3
   },
   "file_extension": ".py",
   "mimetype": "text/x-python",
   "name": "python",
   "nbconvert_exporter": "python",
   "pygments_lexer": "ipython3",
   "version": "3.6.4"
  }
 },
 "nbformat": 4,
 "nbformat_minor": 2
}

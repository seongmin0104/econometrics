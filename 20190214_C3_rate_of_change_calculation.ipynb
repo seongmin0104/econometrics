{
 "cells": [
  {
   "cell_type": "code",
   "execution_count": 30,
   "metadata": {},
   "outputs": [
    {
     "name": "stdout",
     "output_type": "stream",
     "text": [
      "best fit line:\n",
      "y = 6000.26 + 0.86x\n"
     ]
    }
   ],
   "source": [
    "from bokeh.plotting import figure, ColumnDataSource\n",
    "from bokeh.io import show, output_notebook\n",
    "import pandas as pd\n",
    "import numpy as np\n",
    "from bokeh.layouts import column, widgetbox, row, gridplot\n",
    "\n",
    "data = pd.read_csv(\"https://vincentarelbundock.github.io/Rdatasets/csv/Ecdat/Consumption.csv\")\n",
    "\n",
    "x = data['yd'].tolist()\n",
    "y = data['ce'].tolist()\n",
    "\n",
    "#find best fit line by using Least Squares\n",
    "def best_fit(X, Y):\n",
    "\n",
    "    x_mean = sum(X)/len(X)\n",
    "    y_mean = sum(Y)/len(Y)\n",
    "    n = len(X) # or len(Y)\n",
    "    \n",
    "    numer = sum([xi*yi for xi,yi in zip(X, Y)]) - n * x_mean * y_mean\n",
    "    denum = sum([xi**2 for xi in X]) - n * x_mean**2\n",
    "\n",
    "    \n",
    "    b = numer / denum\n",
    "    a = y_mean - b * x_mean\n",
    "    # y = a + b * x\n",
    "    print('best fit line:\\ny = {:.2f} + {:.2f}x'.format(a, b))\n",
    "    return a, b\n",
    "\n",
    "# solution\n",
    "b0, b1 = best_fit(x, y)\n",
    "#best fit line:\n",
    "\n",
    "#y = 6000.26 + 0.86x\n",
    "\n",
    "# plot points and fit line\n",
    "yhat = [b0 + b1 * xi for xi in x]\n",
    "\n",
    "plot = figure()\n",
    "plot.circle(x,y)\n",
    "\n",
    "# make best fit line in scatter graph\n",
    "plot.line(x, yhat)\n",
    "\n",
    "#show(plot)"
   ]
  },
  {
   "cell_type": "code",
   "execution_count": 34,
   "metadata": {},
   "outputs": [
    {
     "name": "stdout",
     "output_type": "stream",
     "text": [
      "best fit line:\n",
      "y = 9.08 + -0.90x\n"
     ]
    }
   ],
   "source": [
    "data = pd.read_csv(\"https://vincentarelbundock.github.io/Rdatasets/csv/Ecdat/Cigar.csv\")\n",
    "data1 = data[(data.year == 90)]\n",
    "\n",
    "x = data1['price'].tolist()\n",
    "y = data1['sales'].tolist()\n",
    "\n",
    "x2 = np.log(x)\n",
    "y2 = np.log(y)\n",
    "\n",
    "#find best fit line by using Least Squares\n",
    "def best_fit(X, Y):\n",
    "\n",
    "    x_mean = sum(X)/len(X)\n",
    "    y_mean = sum(Y)/len(Y)\n",
    "    n = len(X) # or len(Y)\n",
    "    \n",
    "    numer = sum([xi*yi for xi,yi in zip(X, Y)]) - n * x_mean * y_mean\n",
    "    denum = sum([xi**2 for xi in X]) - n * x_mean**2\n",
    "\n",
    "    \n",
    "    b = numer / denum\n",
    "    a = y_mean - b * x_mean\n",
    "    # y = a + b * x\n",
    "    print('best fit line:\\ny = {:.2f} + {:.2f}x'.format(a, b))\n",
    "    return a, b\n",
    "\n",
    "# solution\n",
    "b0, b1 = best_fit(x2, y2)\n",
    "#best fit line:\n",
    "#y = 9.08 + -0.90x\n",
    "\n",
    "# plot points and fit line\n",
    "yhat = [b0 + b1 * xi for xi in x2]\n",
    "\n",
    "plot = figure()\n",
    "plot.circle(x2,y2)\n",
    "\n",
    "# make best fit line in scatter graph\n",
    "plot.line(x2, yhat)\n",
    "\n",
    "show(plot)"
   ]
  },
  {
   "cell_type": "markdown",
   "metadata": {},
   "source": [
    "data = pd.read_csv(\"https://vincentarelbundock.github.io/Rdatasets/csv/Ecdat/Cigar.csv\")\n",
    "data1 = data[(data.year == 90)]\n",
    "print(data1.tail())"
   ]
  },
  {
   "cell_type": "code",
   "execution_count": 45,
   "metadata": {},
   "outputs": [
    {
     "name": "stdout",
     "output_type": "stream",
     "text": [
      "-0.08213312358891467\n"
     ]
    }
   ],
   "source": [
    "#log(Y) = B0 + B1*log(X) 식에서 X의 변화량을 x_cr라고 할때 y의 변화량을 구하는 식\n",
    "x_cr = 0.1\n",
    "b1 = -0.8992\n",
    "y_cr = np.exp(b1*np.log(1+x_cr))-1\n",
    "print(y_cr)"
   ]
  }
 ],
 "metadata": {
  "kernelspec": {
   "display_name": "Python 3",
   "language": "python",
   "name": "python3"
  },
  "language_info": {
   "codemirror_mode": {
    "name": "ipython",
    "version": 3
   },
   "file_extension": ".py",
   "mimetype": "text/x-python",
   "name": "python",
   "nbconvert_exporter": "python",
   "pygments_lexer": "ipython3",
   "version": "3.6.4"
  }
 },
 "nbformat": 4,
 "nbformat_minor": 2
}

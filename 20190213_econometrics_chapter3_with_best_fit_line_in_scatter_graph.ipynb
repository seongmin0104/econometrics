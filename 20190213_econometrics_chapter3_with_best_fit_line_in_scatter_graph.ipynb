{
 "cells": [
  {
   "cell_type": "code",
   "execution_count": 17,
   "metadata": {},
   "outputs": [],
   "source": [
    "from bokeh.plotting import figure, ColumnDataSource, gmap\n",
    "from bokeh.io import show, output_notebook\n",
    "import pandas as pd\n",
    "import numpy as np\n",
    "from bokeh.models.widgets import Panel, Tabs, DataTable, DateFormatter, TableColumn\n",
    "from bokeh.models import HoverTool, LabelSet, Label, GMapOptions\n",
    "from bokeh.layouts import column, widgetbox, row, gridplot\n",
    "\n",
    "data = pd.read_csv('C:/Users/Always9/Desktop/econometrics/data/co2gdp2005.csv')\n",
    "\n",
    "x = data['co2pc'].tolist()\n",
    "y = data['gdppcppp'].tolist()\n",
    "\n",
    "plot = figure()\n",
    "plot.circle(x,y)\n",
    "#show(plot)"
   ]
  },
  {
   "cell_type": "code",
   "execution_count": 15,
   "metadata": {},
   "outputs": [
    {
     "name": "stdout",
     "output_type": "stream",
     "text": [
      "  ccode                 cname      gdppcppp      co2pc\n",
      "0   AFG           Afghanistan   1039.408242   0.054855\n",
      "1   ALB               Albania   6199.928073   1.412498\n",
      "2   ARE  United Arab Emirates  84338.359407  25.914587\n",
      "3   ARM               Armenia   4716.243273   1.443731\n",
      "4   ATG   Antigua and Barbuda  19067.068296   4.974311\n"
     ]
    }
   ],
   "source": [
    "#print(data.head())"
   ]
  },
  {
   "cell_type": "code",
   "execution_count": 20,
   "metadata": {},
   "outputs": [
    {
     "name": "stdout",
     "output_type": "stream",
     "text": [
      "                       gun     servpc     finind\n",
      "count                   86  86.000000  86.000000\n",
      "unique                  86        NaN        NaN\n",
      "top     JeonBuk GoChangGun        NaN        NaN\n",
      "freq                     1        NaN        NaN\n",
      "mean                   NaN  12.835465  17.294186\n",
      "std                    NaN   4.997042   8.458693\n",
      "min                    NaN   3.750000   8.600000\n",
      "25%                    NaN   9.817500  11.725000\n",
      "50%                    NaN  12.070000  14.100000\n",
      "75%                    NaN  15.710000  19.975000\n",
      "max                    NaN  33.450000  48.600000\n"
     ]
    }
   ],
   "source": [
    "data1 = pd.read_csv('C:/Users/Always9/Desktop/econometrics/data/serv.csv')\n",
    "\n",
    "\n",
    "print(data1.describe(include = 'all'))"
   ]
  },
  {
   "cell_type": "code",
   "execution_count": 44,
   "metadata": {},
   "outputs": [],
   "source": [
    "import numpy as np\n",
    "\n",
    "x = data1['servpc'].tolist()\n",
    "y = data1['finind'].tolist()\n",
    "\n",
    "\n",
    "plot = figure()\n",
    "plot.circle(x,y)\n",
    "\n",
    "# make best fit line in scatter graph\n",
    "plot.line(np.unique(x), np.poly1d(np.polyfit(x, y, 1))(np.unique(x)))\n",
    "\n",
    "x2 = np.log(x)\n",
    "y2 = np.log(y)\n",
    "\n",
    "plot2 = figure()\n",
    "plot2.circle(x2, y2)\n",
    "plot2.line(np.unique(x2), np.poly1d(np.polyfit(x2, y2, 1))(np.unique(x2)))\n",
    "\n",
    "\n",
    "#show(row(plot, plot2))"
   ]
  },
  {
   "cell_type": "code",
   "execution_count": 46,
   "metadata": {},
   "outputs": [
    {
     "name": "stdout",
     "output_type": "stream",
     "text": [
      "[1.32175584 1.32972401 1.58309394 1.66203036 1.68639895 1.74745921\n",
      " 1.84054963 1.96009478 1.96150224 2.03861955 2.03992078 2.06812778\n",
      " 2.08193842 2.11504997 2.15871472 2.17588744 2.22028985 2.2375131\n",
      " 2.24070969 2.26902831 2.27109443 2.27726729 2.3045831  2.31253542\n",
      " 2.31451366 2.31944221 2.33891702 2.35042242 2.35991016 2.36930873\n",
      " 2.39516427 2.40152504 2.40423875 2.4078456  2.41054223 2.41591378\n",
      " 2.42921774 2.45702145 2.46385324 2.46555392 2.47569771 2.4765384\n",
      " 2.48407297 2.49732917 2.50061594 2.52011291 2.52572864 2.55567572\n",
      " 2.56109579 2.56648664 2.57184858 2.57413778 2.59226517 2.61666564\n",
      " 2.61812549 2.62031129 2.63188884 2.64546533 2.65253749 2.69395128\n",
      " 2.72654478 2.7304638  2.75047092 2.75556972 2.7887081  2.79055142\n",
      " 2.79239135 2.81241022 2.81660561 2.82612949 2.82967769 2.86220088\n",
      " 2.89369955 2.90087199 2.91777073 2.91831113 2.92959247 2.93385687\n",
      " 2.93757336 2.95230272 2.97909463 2.99972429 3.19417321 3.34215484\n",
      " 3.51005179]\n"
     ]
    }
   ],
   "source": [
    "print(np.unique(x2))"
   ]
  }
 ],
 "metadata": {
  "kernelspec": {
   "display_name": "Python 3",
   "language": "python",
   "name": "python3"
  },
  "language_info": {
   "codemirror_mode": {
    "name": "ipython",
    "version": 3
   },
   "file_extension": ".py",
   "mimetype": "text/x-python",
   "name": "python",
   "nbconvert_exporter": "python",
   "pygments_lexer": "ipython3",
   "version": "3.6.4"
  }
 },
 "nbformat": 4,
 "nbformat_minor": 2
}
